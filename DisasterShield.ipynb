{
  "nbformat": 4,
  "nbformat_minor": 0,
  "metadata": {
    "colab": {
      "provenance": [],
      "authorship_tag": "ABX9TyPU1ekpHgo36PLygEWnBD7O",
      "include_colab_link": true
    },
    "kernelspec": {
      "name": "python3",
      "display_name": "Python 3"
    },
    "language_info": {
      "name": "python"
    }
  },
  "cells": [
    {
      "cell_type": "markdown",
      "metadata": {
        "id": "view-in-github",
        "colab_type": "text"
      },
      "source": [
        "<a href=\"https://colab.research.google.com/github/bagja11/Learning1/blob/main/DisasterShield.ipynb\" target=\"_parent\"><img src=\"https://colab.research.google.com/assets/colab-badge.svg\" alt=\"Open In Colab\"/></a>"
      ]
    },
    {
      "cell_type": "code",
      "execution_count": null,
      "metadata": {
        "id": "HCRKuS5poHlA"
      },
      "outputs": [],
      "source": [
        "import tensorflow as tf\n",
        "from tensorflow import keras\n",
        "import numpy as np\n",
        "import requests\n",
        "import json\n"
      ]
    },
    {
      "cell_type": "code",
      "source": [
        "import pandas as pd\n",
        "import xml.etree.ElementTree as ET\n",
        "\n",
        "# Baca data gempa dari file XLSX\n",
        "gempa_df = pd.read_excel('path/to/data_gempa.xlsx', sheet_name='Sheet1')\n",
        "\n",
        "# Baca data cuaca dari file XML\n",
        "tree = ET.parse('path/to/data_cuaca.xml')\n",
        "root = tree.getroot()\n",
        "\n",
        "cuaca_data = []\n",
        "for cuaca in root.findall('cuaca'):\n",
        "    tanggal = cuaca.find('tanggal').text\n",
        "    suhu = cuaca.find('suhu').text\n",
        "    kelembaban = cuaca.find('kelembaban').text\n",
        "    cuaca_data.append({'tanggal': tanggal, 'suhu': suhu, 'kelembaban': kelembaban})\n",
        "\n",
        "# Konversi data gempa menjadi DataFrame\n",
        "gempa_df = pd.DataFrame(gempa_df)\n",
        "\n",
        "# Konversi data cuaca menjadi DataFrame\n",
        "cuaca_df = pd.DataFrame(cuaca_data)\n",
        "\n",
        "# Gabungkan data gempa dan cuaca berdasarkan tanggal\n",
        "merged_df = pd.merge(gempa_df, cuaca_df, on='tanggal', how='inner')\n",
        "\n",
        "# Tampilkan hasil gabungan\n",
        "print(merged_df)\n"
      ],
      "metadata": {
        "id": "YZhCccBp7NHl"
      },
      "execution_count": null,
      "outputs": []
    }
  ]
}